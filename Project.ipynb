{
  "nbformat": 4,
  "nbformat_minor": 0,
  "metadata": {
    "colab": {
      "provenance": [],
      "authorship_tag": "ABX9TyP4UhUjt2mwrFg/OWjdQvNn",
      "include_colab_link": true
    },
    "kernelspec": {
      "name": "python3",
      "display_name": "Python 3"
    },
    "language_info": {
      "name": "python"
    }
  },
  "cells": [
    {
      "cell_type": "markdown",
      "metadata": {
        "id": "view-in-github",
        "colab_type": "text"
      },
      "source": [
        "<a href=\"https://colab.research.google.com/github/Justice3701/Colab/blob/main/Project.ipynb\" target=\"_parent\"><img src=\"https://colab.research.google.com/assets/colab-badge.svg\" alt=\"Open In Colab\"/></a>"
      ]
    },
    {
      "cell_type": "code",
      "execution_count": null,
      "metadata": {
        "id": "yc9e_04E-4v7"
      },
      "outputs": [],
      "source": [
        "\"\"\"這邊的話是期末專題的備份區\"\"\"\n",
        "#影像發送端\n",
        "import cv2\n",
        "from flask import Flask, Response\n",
        "\n",
        "app = Flask(__name__)\n",
        "\n",
        "\n",
        "def generate_frames():\n",
        "    while True:\n",
        "        success, frame = camera.read()  # 擷取當前影像\n",
        "        if not success:\n",
        "            break\n",
        "        else:\n",
        "            ret, buffer = cv2.imencode('.jpg', frame)  # 將影像轉換為 JPEG 格式\n",
        "            frame = buffer.tobytes()\n",
        "            yield (b'--frame\\r\\n'\n",
        "                   b'Content-Type: image/jpeg\\r\\n\\r\\n' + frame + b'\\r\\n')  # 傳送影像串流\n",
        "\n",
        "\n",
        "@app.route('/')\n",
        "def video_feed():\n",
        "    return Response(generate_frames(),\n",
        "                    mimetype='multipart/x-mixed-replace; boundary=frame')\n",
        "\n",
        "\n",
        "camera = cv2.VideoCapture(0)  # 開啟攝像頭\n",
        "\n",
        "if __name__ == '__main__':\n",
        "    app.run(host='0.0.0.0', port=5000)\n"
      ]
    },
    {
      "cell_type": "code",
      "source": [
        "#接收及物件辨識端\n",
        "import cv2\n",
        "import torch\n",
        "from cvzone import FPS\n",
        "from time import strftime\n",
        "import smtplib\n",
        "from email.mime.image import MIMEImage\n",
        "\n",
        "def send_gmail(capture): #建立寄信函式\n",
        "    mime = MIMEImage(capture)\n",
        "    mime[\"Content-Type\"] = \"application/octet-stream\" #設定檔案類型\n",
        "    mime[\"Content-Disposition\"] = f'attachment; filename=\"{filename}\"'  # 附件的檔案名稱\n",
        "    mime[\"Subject\"] = \"test測試\"  # 撰寫郵件標題\n",
        "    mime[\"From\"] = \"任\"  # 撰寫你的暱稱或是信箱\n",
        "    mime[\"To\"] = \"任\"  # 撰寫寄件人稱呼\n",
        "    mime[\"Cc\"] = \"tdac99@gmail.com, tdac99@gmail.com\"  # 副本收件人\n",
        "    msg = mime.as_string()  # 將msg將text轉成str\n",
        "    smtp = smtplib.SMTP(\"smtp.gmail.com\", 587)  # gmail的port\n",
        "    smtp.ehlo()  # 申請身分\n",
        "    smtp.starttls()  # 加密文件，避免私密信息被截取\n",
        "    smtp.login(\"tdac99@gmail.com\", \"persytmkbqqtrhwq\") #登入寄件人Gmail帳戶&應用程式密碼\n",
        "    from_addr = \"tdac99@gmail.com\" #寄件人Gmail\n",
        "    to_addr = [\"tdac99@gmail.com\"] #收件人Gmail\n",
        "    status = smtp.sendmail(from_addr, to_addr, msg)\n",
        "    if status == {}:\n",
        "        print(\"郵件傳送成功!\")\n",
        "    else:\n",
        "        print(\"郵件傳送失敗!\")\n",
        "    smtp.quit() #登出smtp\n",
        "stream_url = 'http://172.20.10.4:5000/video_feed'  # 發送端的串流 URL\n",
        "filename = strftime(\"person%Y/%m/%d %H:%M:%S.jpg\")\n",
        "# 設定YOLOv5模型\n",
        "model = torch.hub.load('ultralytics/yolov5', 'custom', path='yolov5/runs/train/exp_last/weights/best.pt', force_reload=False)\n",
        "# model = torch.hub.load('ultralytics/yolov5', 'custom', path='yolov5s.pt', force_reload=False)\n",
        "# 設定相機\n",
        "# cap = cv2.VideoCapture(stream_url)\n",
        "cap = cv2.VideoCapture(1,cv2.CAP_DSHOW)\n",
        "fps_reader = FPS()\n",
        "i = 0\n",
        "while True:\n",
        "    # 讀取影像\n",
        "    success, frame = cap.read()\n",
        "    # 將影像轉為RGB格式\n",
        "    dst = cv2.cvtColor(frame, cv2.COLOR_BGR2RGB)\n",
        "    # 偵測物件\n",
        "    results = model(dst)\n",
        "    # 取得偵測框和類別標籤\n",
        "    boxes = results.xyxy[0]\n",
        "    labels_p = results.names[0]\n",
        "    labels_c = results.names[1]\n",
        "    labels_m = results.names[2]\n",
        "    labels = [labels_p, labels_c, labels_m]\n",
        "    # print(labels)\n",
        "    # 找出人臉框和對應的距離\n",
        "    for box in boxes:\n",
        "        x1, y1, x2, y2, confidence, class1 = box.tolist()\n",
        "        if confidence > 0.8:\n",
        "            if int(class1) == 0 and i % 25 == 0 :\n",
        "                capture = dst[int(y1):int(y2), int(x1):int(x2)]\n",
        "                capture = cv2.cvtColor(capture,cv2.COLOR_BGR2RGB)\n",
        "                ret, buffer = cv2.imencode('.png', capture)\n",
        "                capture = buffer.tobytes()\n",
        "                send_gmail(capture)\n",
        "                label=labels[0]\n",
        "                print(label)\n",
        "                cv2.rectangle(dst, (int(x1), int(y1)), (int(x2), int(y2)), (255, 140, 0), 5)\n",
        "                cv2.putText(dst, label + \" \" + str(round(confidence, 2)), (int(x1), int(y1 - 10)),\n",
        "                            cv2.FONT_HERSHEY_SIMPLEX, 1, (255, 140, 0), 3)\n",
        "    frame2 = cv2.cvtColor(dst, cv2.COLOR_BGR2RGB)\n",
        "    fps, frame2 = fps_reader.update(frame2, pos=(10, 20), color=(0, 255, 0), scale=1, thickness=1)\n",
        "    # 顯示影像\n",
        "    cv2.imshow('Result', frame2)\n",
        "    # 按下 'q' 鍵退出迴圈\n",
        "    if cv2.waitKey(1) & 0xFF == ord('q'):\n",
        "        break\n",
        "    i+=1\n",
        "# 釋放攝像頭並關閉視窗\n",
        "cap.release()\n",
        "cv2.destroyAllWindows()"
      ],
      "metadata": {
        "id": "lCI3M1_b4Wlx"
      },
      "execution_count": null,
      "outputs": []
    }
  ]
}